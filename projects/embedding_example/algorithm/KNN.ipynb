{
 "cells": [
  {
   "cell_type": "markdown",
   "metadata": {},
   "source": [
    "# Approach: item-based collaborative filtering"
   ]
  },
  {
   "cell_type": "markdown",
   "metadata": {},
   "source": [
    "- Item based collaborative filtering uses the patterns of users who browsed the same item as me to recommend me a product (users who looked at my item also looked at these other items)."
   ]
  },
  {
   "cell_type": "markdown",
   "metadata": {},
   "source": [
    "# Project Content"
   ]
  },
  {
   "cell_type": "markdown",
   "metadata": {},
   "source": [
    "- Load data\n",
    "- Exploratory data analysis\n",
    "- KNN for item-based collaborative filtering"
   ]
  },
  {
   "cell_type": "markdown",
   "metadata": {},
   "source": [
    "# 0. Libraries"
   ]
  },
  {
   "cell_type": "code",
   "execution_count": 2,
   "metadata": {},
   "outputs": [
    {
     "name": "stdout",
     "output_type": "stream",
     "text": [
      "Requirement already satisfied: numpy in /Users/yuelong/opt/anaconda3/lib/python3.9/site-packages (1.20.3)\n",
      "Requirement already satisfied: pandas in /Users/yuelong/opt/anaconda3/lib/python3.9/site-packages (1.3.4)\n",
      "Requirement already satisfied: matplotlib in /Users/yuelong/opt/anaconda3/lib/python3.9/site-packages (3.4.3)\n",
      "Collecting sklearn\n",
      "  Using cached sklearn-0.0-py2.py3-none-any.whl\n",
      "Requirement already satisfied: scipy in /Users/yuelong/opt/anaconda3/lib/python3.9/site-packages (1.7.1)\n",
      "Requirement already satisfied: nltk in /Users/yuelong/opt/anaconda3/lib/python3.9/site-packages (3.6.5)\n",
      "Collecting datetime\n",
      "  Using cached DateTime-4.4-py2.py3-none-any.whl (51 kB)\n",
      "Requirement already satisfied: tqdm in /Users/yuelong/opt/anaconda3/lib/python3.9/site-packages (4.62.3)\n",
      "Collecting gensim\n",
      "  Using cached gensim-4.1.2-cp39-cp39-macosx_10_9_x86_64.whl (24.0 MB)\n",
      "Requirement already satisfied: python-dateutil>=2.7.3 in /Users/yuelong/opt/anaconda3/lib/python3.9/site-packages (from pandas) (2.8.2)\n",
      "Requirement already satisfied: pytz>=2017.3 in /Users/yuelong/opt/anaconda3/lib/python3.9/site-packages (from pandas) (2021.3)\n",
      "Requirement already satisfied: pyparsing>=2.2.1 in /Users/yuelong/opt/anaconda3/lib/python3.9/site-packages (from matplotlib) (3.0.4)\n",
      "Requirement already satisfied: kiwisolver>=1.0.1 in /Users/yuelong/opt/anaconda3/lib/python3.9/site-packages (from matplotlib) (1.3.1)\n",
      "Requirement already satisfied: pillow>=6.2.0 in /Users/yuelong/opt/anaconda3/lib/python3.9/site-packages (from matplotlib) (8.4.0)\n",
      "Requirement already satisfied: cycler>=0.10 in /Users/yuelong/opt/anaconda3/lib/python3.9/site-packages (from matplotlib) (0.10.0)\n",
      "Requirement already satisfied: scikit-learn in /Users/yuelong/opt/anaconda3/lib/python3.9/site-packages (from sklearn) (0.24.2)\n",
      "Requirement already satisfied: click in /Users/yuelong/opt/anaconda3/lib/python3.9/site-packages (from nltk) (8.0.3)\n",
      "Requirement already satisfied: joblib in /Users/yuelong/opt/anaconda3/lib/python3.9/site-packages (from nltk) (1.1.0)\n",
      "Requirement already satisfied: regex>=2021.8.3 in /Users/yuelong/opt/anaconda3/lib/python3.9/site-packages (from nltk) (2021.8.3)\n",
      "Requirement already satisfied: zope.interface in /Users/yuelong/opt/anaconda3/lib/python3.9/site-packages (from datetime) (5.4.0)\n",
      "Requirement already satisfied: smart-open>=1.8.1 in /Users/yuelong/opt/anaconda3/lib/python3.9/site-packages (from gensim) (5.2.1)\n",
      "Requirement already satisfied: six in /Users/yuelong/opt/anaconda3/lib/python3.9/site-packages (from cycler>=0.10->matplotlib) (1.16.0)\n",
      "Requirement already satisfied: threadpoolctl>=2.0.0 in /Users/yuelong/opt/anaconda3/lib/python3.9/site-packages (from scikit-learn->sklearn) (2.2.0)\n",
      "Requirement already satisfied: setuptools in /Users/yuelong/opt/anaconda3/lib/python3.9/site-packages (from zope.interface->datetime) (58.0.4)\n",
      "Installing collected packages: sklearn, gensim, datetime\n",
      "Successfully installed datetime-4.4 gensim-4.1.2 sklearn-0.0\n"
     ]
    }
   ],
   "source": [
    "!pip install numpy pandas matplotlib sklearn scipy nltk datetime tqdm gensim"
   ]
  },
  {
   "cell_type": "code",
   "execution_count": 2,
   "metadata": {},
   "outputs": [],
   "source": [
    "import numpy as np\n",
    "import pandas as pd\n",
    "import matplotlib.pyplot as plt\n",
    "import matplotlib.cm as cm\n",
    "import re\n",
    "from sklearn.cluster import KMeans\n",
    "from sklearn.cluster import MiniBatchKMeans\n",
    "from sklearn.feature_extraction.text import TfidfVectorizer\n",
    "from sklearn.decomposition import PCA\n",
    "from sklearn.manifold import TSNE\n",
    "from scipy.spatial.distance import cdist\n",
    "from nltk.corpus import stopwords \n",
    "from nltk.tokenize import word_tokenize \n",
    "import nltk\n",
    "from sklearn.feature_extraction.text import CountVectorizer\n",
    "from nltk.stem import PorterStemmer\n",
    "from nltk.stem import WordNetLemmatizer\n",
    "from sklearn.preprocessing import normalize\n",
    "from wordcloud import WordCloud\n",
    "from datetime import datetime\n",
    "import random\n",
    "from tqdm import tqdm\n",
    "from gensim.models import Word2Vec"
   ]
  },
  {
   "cell_type": "markdown",
   "metadata": {},
   "source": [
    "# 1. Load Data"
   ]
  },
  {
   "cell_type": "code",
   "execution_count": 3,
   "metadata": {},
   "outputs": [],
   "source": [
    "tlog = pd.read_csv(r\"../data/sample_tlog.csv\", index_col = 0)\n",
    "product = pd.read_csv(r\"../data/sample_product.csv\", index_col = 0)\n",
    "customer = pd.read_csv(r\"../data/sample_customer.csv\", index_col = 0)"
   ]
  },
  {
   "cell_type": "code",
   "execution_count": 14,
   "metadata": {},
   "outputs": [
    {
     "name": "stdout",
     "output_type": "stream",
     "text": [
      "<class 'pandas.core.frame.DataFrame'>\n",
      "Int64Index: 2938 entries, 0 to 2937\n",
      "Data columns (total 6 columns):\n",
      " #   Column                 Non-Null Count  Dtype \n",
      "---  ------                 --------------  ----- \n",
      " 0   upc_no                 2938 non-null   int64 \n",
      " 1   upc_desc               2938 non-null   object\n",
      " 2   category_no_level_1    2938 non-null   int64 \n",
      " 3   category_desc_level_1  2938 non-null   object\n",
      " 4   category_no_level_2    2938 non-null   int64 \n",
      " 5   category_desc_level_2  2938 non-null   object\n",
      "dtypes: int64(3), object(3)\n",
      "memory usage: 160.7+ KB\n"
     ]
    }
   ],
   "source": [
    "product.info()"
   ]
  },
  {
   "cell_type": "code",
   "execution_count": 13,
   "metadata": {},
   "outputs": [
    {
     "name": "stdout",
     "output_type": "stream",
     "text": [
      "<class 'pandas.core.frame.DataFrame'>\n",
      "Int64Index: 1243 entries, 0 to 1242\n",
      "Data columns (total 9 columns):\n",
      " #   Column                 Non-Null Count  Dtype  \n",
      "---  ------                 --------------  -----  \n",
      " 0   customer_id            1243 non-null   int64  \n",
      " 1   convenience_dim_seg    1243 non-null   object \n",
      " 2   quality_dim_seg        1243 non-null   object \n",
      " 3   health_dim_seg         1243 non-null   object \n",
      " 4   price_dim_seg          1243 non-null   object \n",
      " 5   convenience_dim_score  1243 non-null   float64\n",
      " 6   quality_dim_score      1243 non-null   float64\n",
      " 7   health_dim_score       1243 non-null   float64\n",
      " 8   price_dim_score        1243 non-null   float64\n",
      "dtypes: float64(4), int64(1), object(4)\n",
      "memory usage: 97.1+ KB\n"
     ]
    }
   ],
   "source": [
    "customer.info()"
   ]
  },
  {
   "cell_type": "code",
   "execution_count": 33,
   "metadata": {},
   "outputs": [
    {
     "name": "stdout",
     "output_type": "stream",
     "text": [
      "<class 'pandas.core.frame.DataFrame'>\n",
      "Int64Index: 595306 entries, 0 to 595305\n",
      "Data columns (total 12 columns):\n",
      " #   Column               Non-Null Count   Dtype  \n",
      "---  ------               --------------   -----  \n",
      " 0   transaction_id       595306 non-null  object \n",
      " 1   customer_id          595306 non-null  int64  \n",
      " 2   upc_no               595306 non-null  int64  \n",
      " 3   category_no_level_1  595306 non-null  int64  \n",
      " 4   trans_dt             595306 non-null  int64  \n",
      " 5   week_no              595306 non-null  int64  \n",
      " 6   store_id             595306 non-null  int64  \n",
      " 7   region_cd            595306 non-null  int64  \n",
      " 8   purchase_unit        595306 non-null  int64  \n",
      " 9   sales_amt            595306 non-null  float64\n",
      " 10  disc_amt             595306 non-null  float64\n",
      " 11  purchase_price       595283 non-null  float64\n",
      "dtypes: float64(3), int64(8), object(1)\n",
      "memory usage: 59.0+ MB\n"
     ]
    }
   ],
   "source": [
    "tlog.info()"
   ]
  },
  {
   "cell_type": "code",
   "execution_count": 68,
   "metadata": {},
   "outputs": [
    {
     "data": {
      "text/html": [
       "<div>\n",
       "<style scoped>\n",
       "    .dataframe tbody tr th:only-of-type {\n",
       "        vertical-align: middle;\n",
       "    }\n",
       "\n",
       "    .dataframe tbody tr th {\n",
       "        vertical-align: top;\n",
       "    }\n",
       "\n",
       "    .dataframe thead th {\n",
       "        text-align: right;\n",
       "    }\n",
       "</style>\n",
       "<table border=\"1\" class=\"dataframe\">\n",
       "  <thead>\n",
       "    <tr style=\"text-align: right;\">\n",
       "      <th></th>\n",
       "      <th>customer_id</th>\n",
       "      <th>upc_no</th>\n",
       "      <th>purchase_unit</th>\n",
       "    </tr>\n",
       "  </thead>\n",
       "  <tbody>\n",
       "    <tr>\n",
       "      <th>0</th>\n",
       "      <td>2715888</td>\n",
       "      <td>1111018189</td>\n",
       "      <td>1</td>\n",
       "    </tr>\n",
       "    <tr>\n",
       "      <th>1</th>\n",
       "      <td>2715888</td>\n",
       "      <td>1657194034</td>\n",
       "      <td>1</td>\n",
       "    </tr>\n",
       "    <tr>\n",
       "      <th>2</th>\n",
       "      <td>2715888</td>\n",
       "      <td>1657195084</td>\n",
       "      <td>2</td>\n",
       "    </tr>\n",
       "    <tr>\n",
       "      <th>3</th>\n",
       "      <td>2715888</td>\n",
       "      <td>1657195210</td>\n",
       "      <td>1</td>\n",
       "    </tr>\n",
       "    <tr>\n",
       "      <th>4</th>\n",
       "      <td>7420205</td>\n",
       "      <td>3082</td>\n",
       "      <td>18</td>\n",
       "    </tr>\n",
       "  </tbody>\n",
       "</table>\n",
       "</div>"
      ],
      "text/plain": [
       "   customer_id      upc_no  purchase_unit\n",
       "0      2715888  1111018189              1\n",
       "1      2715888  1657194034              1\n",
       "2      2715888  1657195084              2\n",
       "3      2715888  1657195210              1\n",
       "4      7420205        3082             18"
      ]
     },
     "execution_count": 68,
     "metadata": {},
     "output_type": "execute_result"
    }
   ],
   "source": [
    "sales = tlog[[\"customer_id\", \"upc_no\", \"purchase_unit\"]].groupby([\"customer_id\", \"upc_no\"])\\\n",
    ".agg({\"purchase_unit\": \"sum\"}).reset_index()\n",
    "sales.head()"
   ]
  },
  {
   "cell_type": "code",
   "execution_count": 36,
   "metadata": {},
   "outputs": [
    {
     "name": "stdout",
     "output_type": "stream",
     "text": [
      "There are 2938 products, 1243 customers in the dataset\n"
     ]
    }
   ],
   "source": [
    "print(\"There are {:.0f} products, {:.0f} customers in the dataset\".format(\n",
    "    len(tlog.upc_no.unique()),\n",
    "    len(tlog.customer_id.unique())))"
   ]
  },
  {
   "cell_type": "markdown",
   "metadata": {},
   "source": [
    "# Explore Data"
   ]
  },
  {
   "cell_type": "code",
   "execution_count": 70,
   "metadata": {},
   "outputs": [
    {
     "name": "stderr",
     "output_type": "stream",
     "text": [
      "/var/folders/rk/t0mlngrx5mv3vz6ft_zvhhbr0000gn/T/ipykernel_74476/994306698.py:3: SettingWithCopyWarning: \n",
      "A value is trying to be set on a copy of a slice from a DataFrame.\n",
      "Try using .loc[row_indexer,col_indexer] = value instead\n",
      "\n",
      "See the caveats in the documentation: https://pandas.pydata.org/pandas-docs/stable/user_guide/indexing.html#returning-a-view-versus-a-copy\n",
      "  main_sales[\"log_purchase_unit\"] = np.log(main_sales.purchase_unit)\n"
     ]
    },
    {
     "data": {
      "text/plain": [
       "<AxesSubplot:>"
      ]
     },
     "execution_count": 70,
     "metadata": {},
     "output_type": "execute_result"
    },
    {
     "data": {
      "image/png": "[encoded data removed]",
      "text/plain": [
       "<Figure size 432x288 with 1 Axes>"
      ]
     },
     "metadata": {
      "needs_background": "light"
     },
     "output_type": "display_data"
    }
   ],
   "source": [
    "# only include positive quantities for now\n",
    "main_sales = sales.query(\"purchase_unit > 0\")\n",
    "main_sales[\"log_purchase_unit\"] = np.log(main_sales.purchase_unit)\n",
    "main_sales.log_purchase_unit.hist()"
   ]
  },
  {
   "cell_type": "code",
   "execution_count": 78,
   "metadata": {},
   "outputs": [
    {
     "data": {
      "text/plain": [
       "<AxesSubplot:>"
      ]
     },
     "execution_count": 78,
     "metadata": {},
     "output_type": "execute_result"
    },
    {
     "data": {
      "image/png": "[encoded data removed]",
      "text/plain": [
       "<Figure size 432x288 with 1 Axes>"
      ]
     },
     "metadata": {
      "needs_background": "light"
     },
     "output_type": "display_data"
    }
   ],
   "source": [
    "# purchase distribution for each product\n",
    "main_sales.groupby(\"upc_no\").agg({\"purchase_unit\": \"sum\"})\\\n",
    ".sort_values(\"purchase_unit\", ascending = False).reset_index(drop = True)\\\n",
    ".plot()"
   ]
  },
  {
   "cell_type": "code",
   "execution_count": 86,
   "metadata": {},
   "outputs": [
    {
     "data": {
      "text/plain": [
       "<AxesSubplot:>"
      ]
     },
     "execution_count": 86,
     "metadata": {},
     "output_type": "execute_result"
    },
    {
     "data": {
      "image/png": "[encoded data removed]",
      "text/plain": [
       "<Figure size 432x288 with 1 Axes>"
      ]
     },
     "metadata": {
      "needs_background": "light"
     },
     "output_type": "display_data"
    }
   ],
   "source": [
    "# purchase distribution for each product\n",
    "main_sales.groupby(\"upc_no\").agg({\"purchase_unit\": \"sum\"})\\\n",
    ".sort_values(\"purchase_unit\", ascending = False).reset_index(drop = True)\\\n",
    ".plot(logy = True)"
   ]
  },
  {
   "cell_type": "markdown",
   "metadata": {},
   "source": [
    "# KNN"
   ]
  },
  {
   "cell_type": "code",
   "execution_count": 102,
   "metadata": {},
   "outputs": [],
   "source": [
    "from scipy.sparse import csr_matrix\n",
    "\n",
    "# pivot to each row is a product, each column is a customer\n",
    "prod_buyer_mat = main_sales.pivot(index = \"upc_no\", columns = \"customer_id\", values = \"purchase_unit\").fillna(0)\n",
    "\n",
    "prod_to_idx = {\n",
    "    prod: i for i, prod in\n",
    "    enumerate(list(product.set_index(\"upc_no\").loc[prod_buyer_mat.index].upc_desc))\n",
    "}\n",
    "\n",
    "prod_buyer_mat_sparse = csr_matrix(prod_buyer_mat.values)"
   ]
  },
  {
   "cell_type": "code",
   "execution_count": 96,
   "metadata": {},
   "outputs": [
    {
     "data": {
      "text/plain": [
       "NearestNeighbors(algorithm='brute', metric='cosine', n_jobs=-1, n_neighbors=20)"
      ]
     },
     "execution_count": 96,
     "metadata": {},
     "output_type": "execute_result"
    }
   ],
   "source": [
    "from sklearn.neighbors import NearestNeighbors\n",
    "model_knn = NearestNeighbors(metric = \"cosine\", \n",
    "                             algorithm = \"brute\", \n",
    "                             n_neighbors = 20, \n",
    "                             n_jobs = -1)\n",
    "model_knn.fit(prod_buyer_mat_sparse)"
   ]
  },
  {
   "cell_type": "markdown",
   "metadata": {},
   "source": [
    "# Make product recommendation"
   ]
  },
  {
   "cell_type": "code",
   "execution_count": 111,
   "metadata": {},
   "outputs": [
    {
     "name": "stdout",
     "output_type": "stream",
     "text": [
      "Collecting fuzzywuzzy\n",
      "  Downloading fuzzywuzzy-0.18.0-py2.py3-none-any.whl (18 kB)\n",
      "Installing collected packages: fuzzywuzzy\n",
      "Successfully installed fuzzywuzzy-0.18.0\n"
     ]
    }
   ],
   "source": [
    "!pip install fuzzywuzzy"
   ]
  },
  {
   "cell_type": "code",
   "execution_count": 112,
   "metadata": {},
   "outputs": [
    {
     "name": "stderr",
     "output_type": "stream",
     "text": [
      "/Users/yuelong/opt/anaconda3/lib/python3.9/site-packages/fuzzywuzzy/fuzz.py:11: UserWarning: Using slow pure-python SequenceMatcher. Install python-Levenshtein to remove this warning\n",
      "  warnings.warn('Using slow pure-python SequenceMatcher. Install python-Levenshtein to remove this warning')\n"
     ]
    }
   ],
   "source": [
    "from fuzzywuzzy import fuzz\n",
    "def fuzzy_matching(mapper, fav_prod, verbose=True):\n",
    "    \"\"\"\n",
    "    return the closest match via fuzzy ratio. If no match found, return None\n",
    "    \n",
    "    Parameters\n",
    "    ----------    \n",
    "    mapper: dict, map product title name to index of the product in data\n",
    "\n",
    "    fav_prod: str, name of user input product\n",
    "    \n",
    "    verbose: bool, print log if True\n",
    "\n",
    "    Return\n",
    "    ------\n",
    "    index of the closest match\n",
    "    \"\"\"\n",
    "    match_tuple = []\n",
    "    # get match\n",
    "    for title, idx in mapper.items():\n",
    "        ratio = fuzz.ratio(title.lower(), fav_prod.lower())\n",
    "        if ratio >= 60:\n",
    "            match_tuple.append((title, idx, ratio))\n",
    "    # sort\n",
    "    match_tuple = sorted(match_tuple, key=lambda x: x[2])[::-1]\n",
    "    if not match_tuple:\n",
    "        print('Oops! No match is found')\n",
    "        return\n",
    "    if verbose:\n",
    "        print('Found possible matches in our database: {0}\\n'.format([x[0] for x in match_tuple]))\n",
    "    return match_tuple[0][1]"
   ]
  },
  {
   "cell_type": "code",
   "execution_count": 113,
   "metadata": {},
   "outputs": [],
   "source": [
    "def make_recommendation(model_knn, data, mapper, fav_prod, n_recommendations):\n",
    "    \"\"\"\n",
    "    return top n similar product recommendations based on user's input product\n",
    "\n",
    "\n",
    "    Parameters\n",
    "    ----------\n",
    "    model_knn: sklearn model, knn model\n",
    "\n",
    "    data: product-user matrix\n",
    "\n",
    "    mapper: dict, map product title name to index of the product in data\n",
    "\n",
    "    fav_prod: str, name of user input product\n",
    "\n",
    "    n_recommendations: int, top n recommendations\n",
    "\n",
    "    Return\n",
    "    ------\n",
    "    list of top n similar product recommendations\n",
    "    \"\"\"\n",
    "    # fit\n",
    "    model_knn.fit(data)\n",
    "    # get input product index\n",
    "    print('You have input product:', fav_prod)\n",
    "    idx = fuzzy_matching(mapper, fav_prod, verbose=True)\n",
    "    # inference\n",
    "    print('Recommendation system start to make inference')\n",
    "    print('......\\n')\n",
    "    distances, indices = model_knn.kneighbors(data[idx], n_neighbors=n_recommendations+1)\n",
    "    # get list of raw idx of recommendations\n",
    "    raw_recommends = \\\n",
    "        sorted(list(zip(indices.squeeze().tolist(), distances.squeeze().tolist())), key=lambda x: x[1])[:0:-1]\n",
    "    # get reverse mapper\n",
    "    reverse_mapper = {v: k for k, v in mapper.items()}\n",
    "    # print recommendations\n",
    "    print('Recommendations for {}:'.format(fav_prod))\n",
    "    for i, (idx, dist) in enumerate(raw_recommends):\n",
    "        print('{0}: {1}, with distance of {2}'.format(i+1, reverse_mapper[idx], dist))"
   ]
  },
  {
   "cell_type": "code",
   "execution_count": 114,
   "metadata": {},
   "outputs": [
    {
     "name": "stdout",
     "output_type": "stream",
     "text": [
      "You have input product: GRAPES MOON DROP\n",
      "Found possible matches in our database: ['GRAPES MOON DROP', 'GRAPES COTTON CANDY']\n",
      "\n",
      "Recommendation system start to make inference\n",
      "......\n",
      "\n",
      "Recommendations for GRAPES MOON DROP:\n",
      "1: CHBN RASPBERRY GREEK YGRT, with distance of 0.5948538915704271\n",
      "2: BELG FRSH MOZARELLA BALLS, with distance of 0.5504767921792009\n",
      "3: CARROTS BUNCH ORGNC RPC, with distance of 0.5444328673179748\n",
      "4: GRDH WATERMELON CHUNKS, with distance of 0.44588460032211086\n",
      "5: LAYS LIGHTLY SALTED CHIPS, with distance of 0.44582957896886266\n",
      "6: BKRY SS DONUTS, with distance of 0.3757515928326228\n",
      "7: CHBN NF PLAIN YOGURT, with distance of 0.2711775334524543\n",
      "8: CHERRIES BING CHILEAN BAG, with distance of 0.20205014209235872\n",
      "9: WTRMLN SEED PREM CUT IS, with distance of 0.174136715728185\n",
      "10: GRDH WATERMELON SPEARS, with distance of 0.1536902178890882\n"
     ]
    }
   ],
   "source": [
    "my_favorite = 'GRAPES MOON DROP'\n",
    "\n",
    "make_recommendation(\n",
    "    model_knn=model_knn,\n",
    "    data=prod_buyer_mat_sparse,\n",
    "    fav_prod=my_favorite,\n",
    "    mapper=prod_to_idx,\n",
    "    n_recommendations=10\n",
    ")"
   ]
  }
 ],
 "metadata": {
  "kernelspec": {
   "display_name": "Python 3 (ipykernel)",
   "language": "python",
   "name": "python3"
  },
  "language_info": {
   "codemirror_mode": {
    "name": "ipython",
    "version": 3
   },
   "file_extension": ".py",
   "mimetype": "text/x-python",
   "name": "python",
   "nbconvert_exporter": "python",
   "pygments_lexer": "ipython3",
   "version": "3.9.7"
  }
 },
 "nbformat": 4,
 "nbformat_minor": 4
}
